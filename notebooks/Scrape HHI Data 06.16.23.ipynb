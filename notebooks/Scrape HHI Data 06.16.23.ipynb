{
 "cells": [
  {
   "cell_type": "code",
   "execution_count": 16,
   "id": "a96322e8",
   "metadata": {},
   "outputs": [],
   "source": [
    "import numpy as np\n",
    "import requests\n",
    "from bs4 import BeautifulSoup\n",
    "import pandas as pd"
   ]
  },
  {
   "cell_type": "code",
   "execution_count": 17,
   "id": "5bdea76c",
   "metadata": {},
   "outputs": [
    {
     "data": {
      "text/plain": [
       "<Response [200]>"
      ]
     },
     "execution_count": 17,
     "metadata": {},
     "output_type": "execute_result"
    }
   ],
   "source": [
    "url = 'https://thetvdb.com/series/house-hunters-international/allseasons/official'\n",
    "page = requests.get(url)\n",
    "page"
   ]
  },
  {
   "cell_type": "code",
   "execution_count": 18,
   "id": "60c950f2",
   "metadata": {},
   "outputs": [],
   "source": [
    "#Scrape one result each to start\n",
    "page = requests.get(url)\n",
    "soup = BeautifulSoup(page.text,'lxml')\n",
    "\n",
    "ep_label = soup.find('h4',class_ =\"list-group-item-heading\").text.strip().split('\\n\\n')[1].strip()\n",
    "ep_summary = soup.find('p').text.strip()\n",
    "air_date = soup.find('ul',class_ = 'list-inline text-muted').find('li').text.strip()"
   ]
  },
  {
   "cell_type": "code",
   "execution_count": 19,
   "id": "6a2b214e",
   "metadata": {
    "scrolled": true
   },
   "outputs": [
    {
     "name": "stdout",
     "output_type": "stream",
     "text": [
      "# of episode labels scraped:  2432\n",
      "# of episode summaries scraped:  2432\n",
      "# of air dates scraped:  2432\n"
     ]
    }
   ],
   "source": [
    "#Get lists\n",
    "ep_label = soup.find_all('h4',class_ =\"list-group-item-heading\")\n",
    "ep_summary = soup.find_all('p')\n",
    "air_date = soup.find_all('ul',class_ = 'list-inline text-muted')\n",
    "\n",
    "print('# of episode labels scraped: ', len(ep_label))\n",
    "print('# of episode summaries scraped: ', len(ep_summary))\n",
    "print('# of air dates scraped: ', len(air_date))"
   ]
  },
  {
   "cell_type": "code",
   "execution_count": 20,
   "id": "9c7daec7",
   "metadata": {
    "scrolled": true
   },
   "outputs": [
    {
     "name": "stdout",
     "output_type": "stream",
     "text": [
      "\n",
      "S77E12\n",
      "\n",
      "                                    Seeking Italian Charm in Iesi\n",
      "                                \n",
      "\n",
      "\n",
      "April 30, 2015\n",
      "HGTV\n",
      "\n",
      "A family's move to Iesi, Italy, is filled with both excitement and uncertainty as they look for a place with oodles of Italian charm and enough room to homeschool four children.\r\n",
      "\n"
     ]
    }
   ],
   "source": [
    "print(ep_label[1000].text)\n",
    "print(air_date[1000].text)\n",
    "print(ep_summary[1000].text)"
   ]
  },
  {
   "cell_type": "code",
   "execution_count": 21,
   "id": "b9f7af68",
   "metadata": {},
   "outputs": [
    {
     "data": {
      "text/plain": [
       "(2432, 3)"
      ]
     },
     "execution_count": 21,
     "metadata": {},
     "output_type": "execute_result"
    }
   ],
   "source": [
    "df = pd.DataFrame(\n",
    "    list(zip(ep_label, ep_summary, air_date)), columns=['ep_label', 'ep_summary', 'air_date']\n",
    ")\n",
    "df.shape"
   ]
  },
  {
   "cell_type": "code",
   "execution_count": 22,
   "id": "8a335328",
   "metadata": {},
   "outputs": [
    {
     "data": {
      "text/html": [
       "<div>\n",
       "<style scoped>\n",
       "    .dataframe tbody tr th:only-of-type {\n",
       "        vertical-align: middle;\n",
       "    }\n",
       "\n",
       "    .dataframe tbody tr th {\n",
       "        vertical-align: top;\n",
       "    }\n",
       "\n",
       "    .dataframe thead th {\n",
       "        text-align: right;\n",
       "    }\n",
       "</style>\n",
       "<table border=\"1\" class=\"dataframe\">\n",
       "  <thead>\n",
       "    <tr style=\"text-align: right;\">\n",
       "      <th></th>\n",
       "      <th>ep_label</th>\n",
       "      <th>ep_summary</th>\n",
       "      <th>air_date</th>\n",
       "    </tr>\n",
       "  </thead>\n",
       "  <tbody>\n",
       "    <tr>\n",
       "      <th>0</th>\n",
       "      <td>[\\n, [S01E01], \\n, [\\n                        ...</td>\n",
       "      <td>[After attending college in the United States,...</td>\n",
       "      <td>[\\n, [February 20, 2006], \\n, [HGTV], \\n]</td>\n",
       "    </tr>\n",
       "    <tr>\n",
       "      <th>1</th>\n",
       "      <td>[\\n, [S01E02], \\n, [\\n                        ...</td>\n",
       "      <td>[Real estate agent Michelle Owens adores her l...</td>\n",
       "      <td>[\\n, [April 17, 2006], \\n, [HGTV], \\n]</td>\n",
       "    </tr>\n",
       "    <tr>\n",
       "      <th>2</th>\n",
       "      <td>[\\n, [S01E03], \\n, [\\n                        ...</td>\n",
       "      <td>[Gary Howorka and his girlfriend, Rebecca Ande...</td>\n",
       "      <td>[\\n, [September 4, 2006], \\n, [HGTV], \\n]</td>\n",
       "    </tr>\n",
       "    <tr>\n",
       "      <th>3</th>\n",
       "      <td>[\\n, [S01E04], \\n, [\\n                        ...</td>\n",
       "      <td>[After living with his sister for five years, ...</td>\n",
       "      <td>[\\n, [June 2, 2006], \\n, [HGTV], \\n]</td>\n",
       "    </tr>\n",
       "    <tr>\n",
       "      <th>4</th>\n",
       "      <td>[\\n, [S01E05], \\n, [\\n                        ...</td>\n",
       "      <td>[Martin Michajluk and his fiancee, Eva Dakovov...</td>\n",
       "      <td>[\\n, [June 23, 2006], \\n, [HGTV], \\n]</td>\n",
       "    </tr>\n",
       "  </tbody>\n",
       "</table>\n",
       "</div>"
      ],
      "text/plain": [
       "                                            ep_label  \\\n",
       "0  [\\n, [S01E01], \\n, [\\n                        ...   \n",
       "1  [\\n, [S01E02], \\n, [\\n                        ...   \n",
       "2  [\\n, [S01E03], \\n, [\\n                        ...   \n",
       "3  [\\n, [S01E04], \\n, [\\n                        ...   \n",
       "4  [\\n, [S01E05], \\n, [\\n                        ...   \n",
       "\n",
       "                                          ep_summary  \\\n",
       "0  [After attending college in the United States,...   \n",
       "1  [Real estate agent Michelle Owens adores her l...   \n",
       "2  [Gary Howorka and his girlfriend, Rebecca Ande...   \n",
       "3  [After living with his sister for five years, ...   \n",
       "4  [Martin Michajluk and his fiancee, Eva Dakovov...   \n",
       "\n",
       "                                    air_date  \n",
       "0  [\\n, [February 20, 2006], \\n, [HGTV], \\n]  \n",
       "1     [\\n, [April 17, 2006], \\n, [HGTV], \\n]  \n",
       "2  [\\n, [September 4, 2006], \\n, [HGTV], \\n]  \n",
       "3       [\\n, [June 2, 2006], \\n, [HGTV], \\n]  \n",
       "4      [\\n, [June 23, 2006], \\n, [HGTV], \\n]  "
      ]
     },
     "execution_count": 22,
     "metadata": {},
     "output_type": "execute_result"
    }
   ],
   "source": [
    "df.head()"
   ]
  },
  {
   "cell_type": "code",
   "execution_count": 23,
   "id": "cc23f8fb",
   "metadata": {},
   "outputs": [
    {
     "data": {
      "text/plain": [
       "<h4 class=\"list-group-item-heading\">\n",
       "<span class=\"text-muted episode-label\">S01E01</span>\n",
       "<a href=\"/series/house-hunters-international/episodes/2653681\">\n",
       "                                    Planting New Costa Rican Roots\n",
       "                                </a>\n",
       "</h4>"
      ]
     },
     "execution_count": 23,
     "metadata": {},
     "output_type": "execute_result"
    }
   ],
   "source": [
    "df['ep_label'][0]"
   ]
  },
  {
   "cell_type": "code",
   "execution_count": 24,
   "id": "a51d1c9a",
   "metadata": {},
   "outputs": [],
   "source": [
    "df['ep_nums'] = df['ep_label'].astype(str).str.extract(r\">(.*?)</span>\")\n",
    "df['ep_title'] = df['ep_label'].astype(str).str.split('>\\n').str[3].str.strip().str.split('\\n').str[0]\n",
    "df['episode'] = pd.to_numeric(df['ep_nums'].str.split('E').str[1], errors = 'coerce')\n",
    "df['season'] = pd.to_numeric(df['ep_nums'].str.split('E').str[0].str[1:], errors = 'coerce')\n",
    "df['ep_summary'] = df['ep_summary'].astype(str).str.extract(r\"<p>(.*?)</p>\")\n",
    "df['air_date'] = df['air_date'].astype(str).str.extract(r\"<li>(.*?)</li>\")\n",
    "df['year'] = df['air_date'].str.split(', ').str[1]"
   ]
  },
  {
   "cell_type": "code",
   "execution_count": 25,
   "id": "9d228225",
   "metadata": {},
   "outputs": [
    {
     "data": {
      "text/html": [
       "<div>\n",
       "<style scoped>\n",
       "    .dataframe tbody tr th:only-of-type {\n",
       "        vertical-align: middle;\n",
       "    }\n",
       "\n",
       "    .dataframe tbody tr th {\n",
       "        vertical-align: top;\n",
       "    }\n",
       "\n",
       "    .dataframe thead th {\n",
       "        text-align: right;\n",
       "    }\n",
       "</style>\n",
       "<table border=\"1\" class=\"dataframe\">\n",
       "  <thead>\n",
       "    <tr style=\"text-align: right;\">\n",
       "      <th></th>\n",
       "      <th>ep_label</th>\n",
       "      <th>ep_summary</th>\n",
       "      <th>air_date</th>\n",
       "      <th>ep_nums</th>\n",
       "      <th>ep_title</th>\n",
       "      <th>episode</th>\n",
       "      <th>season</th>\n",
       "      <th>year</th>\n",
       "    </tr>\n",
       "  </thead>\n",
       "  <tbody>\n",
       "    <tr>\n",
       "      <th>0</th>\n",
       "      <td>[\\n, [S01E01], \\n, [\\n                        ...</td>\n",
       "      <td>After attending college in the United States, ...</td>\n",
       "      <td>February 20, 2006</td>\n",
       "      <td>S01E01</td>\n",
       "      <td>Planting New Costa Rican Roots</td>\n",
       "      <td>1.0</td>\n",
       "      <td>1.0</td>\n",
       "      <td>2006</td>\n",
       "    </tr>\n",
       "    <tr>\n",
       "      <th>1</th>\n",
       "      <td>[\\n, [S01E02], \\n, [\\n                        ...</td>\n",
       "      <td>Real estate agent Michelle Owens adores her li...</td>\n",
       "      <td>April 17, 2006</td>\n",
       "      <td>S01E02</td>\n",
       "      <td>Belize Bound</td>\n",
       "      <td>2.0</td>\n",
       "      <td>1.0</td>\n",
       "      <td>2006</td>\n",
       "    </tr>\n",
       "    <tr>\n",
       "      <th>2</th>\n",
       "      <td>[\\n, [S01E03], \\n, [\\n                        ...</td>\n",
       "      <td>Gary Howorka and his girlfriend, Rebecca Ander...</td>\n",
       "      <td>September 4, 2006</td>\n",
       "      <td>S01E03</td>\n",
       "      <td>Honduras Home Hunt</td>\n",
       "      <td>3.0</td>\n",
       "      <td>1.0</td>\n",
       "      <td>2006</td>\n",
       "    </tr>\n",
       "    <tr>\n",
       "      <th>3</th>\n",
       "      <td>[\\n, [S01E04], \\n, [\\n                        ...</td>\n",
       "      <td>After living with his sister for five years, S...</td>\n",
       "      <td>June 2, 2006</td>\n",
       "      <td>S01E04</td>\n",
       "      <td>Sao Paulo Search</td>\n",
       "      <td>4.0</td>\n",
       "      <td>1.0</td>\n",
       "      <td>2006</td>\n",
       "    </tr>\n",
       "    <tr>\n",
       "      <th>4</th>\n",
       "      <td>[\\n, [S01E05], \\n, [\\n                        ...</td>\n",
       "      <td>Martin Michajluk and his fiancee, Eva Dakovova...</td>\n",
       "      <td>June 23, 2006</td>\n",
       "      <td>S01E05</td>\n",
       "      <td>Picking a Place in Prague</td>\n",
       "      <td>5.0</td>\n",
       "      <td>1.0</td>\n",
       "      <td>2006</td>\n",
       "    </tr>\n",
       "  </tbody>\n",
       "</table>\n",
       "</div>"
      ],
      "text/plain": [
       "                                            ep_label  \\\n",
       "0  [\\n, [S01E01], \\n, [\\n                        ...   \n",
       "1  [\\n, [S01E02], \\n, [\\n                        ...   \n",
       "2  [\\n, [S01E03], \\n, [\\n                        ...   \n",
       "3  [\\n, [S01E04], \\n, [\\n                        ...   \n",
       "4  [\\n, [S01E05], \\n, [\\n                        ...   \n",
       "\n",
       "                                          ep_summary           air_date  \\\n",
       "0  After attending college in the United States, ...  February 20, 2006   \n",
       "1  Real estate agent Michelle Owens adores her li...     April 17, 2006   \n",
       "2  Gary Howorka and his girlfriend, Rebecca Ander...  September 4, 2006   \n",
       "3  After living with his sister for five years, S...       June 2, 2006   \n",
       "4  Martin Michajluk and his fiancee, Eva Dakovova...      June 23, 2006   \n",
       "\n",
       "  ep_nums                        ep_title  episode  season  year  \n",
       "0  S01E01  Planting New Costa Rican Roots      1.0     1.0  2006  \n",
       "1  S01E02                    Belize Bound      2.0     1.0  2006  \n",
       "2  S01E03              Honduras Home Hunt      3.0     1.0  2006  \n",
       "3  S01E04                Sao Paulo Search      4.0     1.0  2006  \n",
       "4  S01E05       Picking a Place in Prague      5.0     1.0  2006  "
      ]
     },
     "execution_count": 25,
     "metadata": {},
     "output_type": "execute_result"
    }
   ],
   "source": [
    "df.head()"
   ]
  },
  {
   "cell_type": "code",
   "execution_count": 26,
   "id": "a856873a",
   "metadata": {},
   "outputs": [
    {
     "data": {
      "text/html": [
       "<div>\n",
       "<style scoped>\n",
       "    .dataframe tbody tr th:only-of-type {\n",
       "        vertical-align: middle;\n",
       "    }\n",
       "\n",
       "    .dataframe tbody tr th {\n",
       "        vertical-align: top;\n",
       "    }\n",
       "\n",
       "    .dataframe thead th {\n",
       "        text-align: right;\n",
       "    }\n",
       "</style>\n",
       "<table border=\"1\" class=\"dataframe\">\n",
       "  <thead>\n",
       "    <tr style=\"text-align: right;\">\n",
       "      <th></th>\n",
       "      <th>Text</th>\n",
       "    </tr>\n",
       "  </thead>\n",
       "  <tbody>\n",
       "    <tr>\n",
       "      <th>0</th>\n",
       "      <td>The University of Cambridge is a collegiate re...</td>\n",
       "    </tr>\n",
       "    <tr>\n",
       "      <th>1</th>\n",
       "      <td>Cambridge is ranked among the most prestigious...</td>\n",
       "    </tr>\n",
       "  </tbody>\n",
       "</table>\n",
       "</div>"
      ],
      "text/plain": [
       "                                                Text\n",
       "0  The University of Cambridge is a collegiate re...\n",
       "1  Cambridge is ranked among the most prestigious..."
      ]
     },
     "execution_count": 26,
     "metadata": {},
     "output_type": "execute_result"
    }
   ],
   "source": [
    "import spacy\n",
    "\n",
    "nlp = spacy.load('en_core_web_sm')\n",
    "df_test = pd.DataFrame({'Text':['The University of Cambridge is a collegiate research university in Cambridge, United Kingdom.', \"Cambridge is ranked among the most prestigious universities in the world and currently sits as the world's second best university, and the best in Europe, according to the QS World University Rankings.\"]})\n",
    "df_test.head()"
   ]
  },
  {
   "cell_type": "code",
   "execution_count": 28,
   "id": "ed9b6991",
   "metadata": {},
   "outputs": [
    {
     "data": {
      "text/plain": [
       "[('Cambridge', 0, 9, 'ORG'),\n",
       " ('second', 107, 113, 'ORDINAL'),\n",
       " ('Europe', 147, 153, 'LOC'),\n",
       " ('the QS World University Rankings', 168, 200, 'ORG')]"
      ]
     },
     "execution_count": 28,
     "metadata": {},
     "output_type": "execute_result"
    }
   ],
   "source": [
    "df_test['Entities'] = df_test['Text'].apply(lambda sent: [(ent.text, ent.start_char, ent.end_char, ent.label_) for ent in nlp(sent).ents])  \n",
    "df_test['Entities'][1]"
   ]
  },
  {
   "cell_type": "code",
   "execution_count": 30,
   "id": "b18db382",
   "metadata": {},
   "outputs": [
    {
     "data": {
      "text/plain": [
       "[('Michelle Owens', 18, 32, 'PERSON'),\n",
       " ('Charleston', 52, 62, 'GPE'),\n",
       " ('S.C.', 64, 68, 'GPE'),\n",
       " ('Belize', 95, 101, 'GPE'),\n",
       " ('six years ago', 102, 115, 'DATE'),\n",
       " ('Central American', 175, 191, 'NORP'),\n",
       " ('the Caribbean Sea', 356, 373, 'LOC'),\n",
       " ('Howard Oldham', 663, 676, 'PERSON')]"
      ]
     },
     "execution_count": 30,
     "metadata": {},
     "output_type": "execute_result"
    }
   ],
   "source": [
    "df['Entities'] = df['ep_summary'].astype(str).apply(lambda sent: [(ent.text, ent.start_char, ent.end_char, ent.label_) for ent in nlp(sent).ents])  \n",
    "df['Entities'][1]"
   ]
  },
  {
   "cell_type": "code",
   "execution_count": 31,
   "id": "1735ba5b",
   "metadata": {},
   "outputs": [
    {
     "data": {
      "text/html": [
       "<div>\n",
       "<style scoped>\n",
       "    .dataframe tbody tr th:only-of-type {\n",
       "        vertical-align: middle;\n",
       "    }\n",
       "\n",
       "    .dataframe tbody tr th {\n",
       "        vertical-align: top;\n",
       "    }\n",
       "\n",
       "    .dataframe thead th {\n",
       "        text-align: right;\n",
       "    }\n",
       "</style>\n",
       "<table border=\"1\" class=\"dataframe\">\n",
       "  <thead>\n",
       "    <tr style=\"text-align: right;\">\n",
       "      <th></th>\n",
       "      <th>ep_label</th>\n",
       "      <th>ep_summary</th>\n",
       "      <th>air_date</th>\n",
       "      <th>ep_nums</th>\n",
       "      <th>ep_title</th>\n",
       "      <th>episode</th>\n",
       "      <th>season</th>\n",
       "      <th>year</th>\n",
       "      <th>Entities</th>\n",
       "    </tr>\n",
       "  </thead>\n",
       "  <tbody>\n",
       "    <tr>\n",
       "      <th>0</th>\n",
       "      <td>[\\n, [S01E01], \\n, [\\n                        ...</td>\n",
       "      <td>After attending college in the United States, ...</td>\n",
       "      <td>February 20, 2006</td>\n",
       "      <td>S01E01</td>\n",
       "      <td>Planting New Costa Rican Roots</td>\n",
       "      <td>1.0</td>\n",
       "      <td>1.0</td>\n",
       "      <td>2006</td>\n",
       "      <td>[(the United States, 27, 44, GPE), (27-year-ol...</td>\n",
       "    </tr>\n",
       "    <tr>\n",
       "      <th>1</th>\n",
       "      <td>[\\n, [S01E02], \\n, [\\n                        ...</td>\n",
       "      <td>Real estate agent Michelle Owens adores her li...</td>\n",
       "      <td>April 17, 2006</td>\n",
       "      <td>S01E02</td>\n",
       "      <td>Belize Bound</td>\n",
       "      <td>2.0</td>\n",
       "      <td>1.0</td>\n",
       "      <td>2006</td>\n",
       "      <td>[(Michelle Owens, 18, 32, PERSON), (Charleston...</td>\n",
       "    </tr>\n",
       "    <tr>\n",
       "      <th>2</th>\n",
       "      <td>[\\n, [S01E03], \\n, [\\n                        ...</td>\n",
       "      <td>Gary Howorka and his girlfriend, Rebecca Ander...</td>\n",
       "      <td>September 4, 2006</td>\n",
       "      <td>S01E03</td>\n",
       "      <td>Honduras Home Hunt</td>\n",
       "      <td>3.0</td>\n",
       "      <td>1.0</td>\n",
       "      <td>2006</td>\n",
       "      <td>[(Gary Howorka, 0, 12, PERSON), (Rebecca Ander...</td>\n",
       "    </tr>\n",
       "    <tr>\n",
       "      <th>3</th>\n",
       "      <td>[\\n, [S01E04], \\n, [\\n                        ...</td>\n",
       "      <td>After living with his sister for five years, S...</td>\n",
       "      <td>June 2, 2006</td>\n",
       "      <td>S01E04</td>\n",
       "      <td>Sao Paulo Search</td>\n",
       "      <td>4.0</td>\n",
       "      <td>1.0</td>\n",
       "      <td>2006</td>\n",
       "      <td>[(five years, 33, 43, DATE), (Sao Paulo, 45, 5...</td>\n",
       "    </tr>\n",
       "    <tr>\n",
       "      <th>4</th>\n",
       "      <td>[\\n, [S01E05], \\n, [\\n                        ...</td>\n",
       "      <td>Martin Michajluk and his fiancee, Eva Dakovova...</td>\n",
       "      <td>June 23, 2006</td>\n",
       "      <td>S01E05</td>\n",
       "      <td>Picking a Place in Prague</td>\n",
       "      <td>5.0</td>\n",
       "      <td>1.0</td>\n",
       "      <td>2006</td>\n",
       "      <td>[(Martin Michajluk, 0, 16, PERSON), (Eva Dakov...</td>\n",
       "    </tr>\n",
       "  </tbody>\n",
       "</table>\n",
       "</div>"
      ],
      "text/plain": [
       "                                            ep_label  \\\n",
       "0  [\\n, [S01E01], \\n, [\\n                        ...   \n",
       "1  [\\n, [S01E02], \\n, [\\n                        ...   \n",
       "2  [\\n, [S01E03], \\n, [\\n                        ...   \n",
       "3  [\\n, [S01E04], \\n, [\\n                        ...   \n",
       "4  [\\n, [S01E05], \\n, [\\n                        ...   \n",
       "\n",
       "                                          ep_summary           air_date  \\\n",
       "0  After attending college in the United States, ...  February 20, 2006   \n",
       "1  Real estate agent Michelle Owens adores her li...     April 17, 2006   \n",
       "2  Gary Howorka and his girlfriend, Rebecca Ander...  September 4, 2006   \n",
       "3  After living with his sister for five years, S...       June 2, 2006   \n",
       "4  Martin Michajluk and his fiancee, Eva Dakovova...      June 23, 2006   \n",
       "\n",
       "  ep_nums                        ep_title  episode  season  year  \\\n",
       "0  S01E01  Planting New Costa Rican Roots      1.0     1.0  2006   \n",
       "1  S01E02                    Belize Bound      2.0     1.0  2006   \n",
       "2  S01E03              Honduras Home Hunt      3.0     1.0  2006   \n",
       "3  S01E04                Sao Paulo Search      4.0     1.0  2006   \n",
       "4  S01E05       Picking a Place in Prague      5.0     1.0  2006   \n",
       "\n",
       "                                            Entities  \n",
       "0  [(the United States, 27, 44, GPE), (27-year-ol...  \n",
       "1  [(Michelle Owens, 18, 32, PERSON), (Charleston...  \n",
       "2  [(Gary Howorka, 0, 12, PERSON), (Rebecca Ander...  \n",
       "3  [(five years, 33, 43, DATE), (Sao Paulo, 45, 5...  \n",
       "4  [(Martin Michajluk, 0, 16, PERSON), (Eva Dakov...  "
      ]
     },
     "execution_count": 31,
     "metadata": {},
     "output_type": "execute_result"
    }
   ],
   "source": [
    "df.head()"
   ]
  },
  {
   "cell_type": "code",
   "execution_count": 34,
   "id": "be3a1f37",
   "metadata": {},
   "outputs": [],
   "source": [
    "#df.to_csv('hhi.csv')  "
   ]
  },
  {
   "cell_type": "code",
   "execution_count": null,
   "id": "50a01ade",
   "metadata": {},
   "outputs": [],
   "source": []
  }
 ],
 "metadata": {
  "kernelspec": {
   "display_name": "Python 3 (ipykernel)",
   "language": "python",
   "name": "python3"
  },
  "language_info": {
   "codemirror_mode": {
    "name": "ipython",
    "version": 3
   },
   "file_extension": ".py",
   "mimetype": "text/x-python",
   "name": "python",
   "nbconvert_exporter": "python",
   "pygments_lexer": "ipython3",
   "version": "3.9.13"
  }
 },
 "nbformat": 4,
 "nbformat_minor": 5
}
