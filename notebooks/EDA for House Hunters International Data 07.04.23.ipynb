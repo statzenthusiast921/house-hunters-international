{
 "cells": [
  {
   "cell_type": "code",
   "execution_count": 1,
   "id": "7e6f6613",
   "metadata": {},
   "outputs": [
    {
     "name": "stdout",
     "output_type": "stream",
     "text": [
      "(2419, 14)\n"
     ]
    }
   ],
   "source": [
    "#Import libraries\n",
    "import pandas as pd\n",
    "import numpy as np\n",
    "\n",
    "#Read in the data\n",
    "df=pd.read_csv(\"https://raw.githubusercontent.com/statzenthusiast921/house-hunters-international/main/data/hhi.csv\",encoding='latin-1')\n",
    "print(df.shape)"
   ]
  },
  {
   "cell_type": "code",
   "execution_count": 2,
   "id": "bfb6e9c0",
   "metadata": {
    "scrolled": true
   },
   "outputs": [],
   "source": [
    "#Format origin and destinations a little more clearly\n",
    "df['Origin'] = np.where(\n",
    "    df['MoveFromCity'].str.contains(',') == True, df['MoveFromCity'], df['MoveFromCity'] + ', ' + df['MoveFromCountry']\n",
    ")\n",
    "df['Destination'] = np.where(\n",
    "    df['MoveToCity'].str.contains(',') == True, df['MoveToCity'], df['MoveToCity'] + ', ' + df['MoveToCountry']\n",
    ")"
   ]
  },
  {
   "cell_type": "code",
   "execution_count": 3,
   "id": "42b2e817",
   "metadata": {},
   "outputs": [
    {
     "data": {
      "text/plain": [
       "0    1105\n",
       "2     841\n",
       "1     354\n",
       "3      94\n",
       "Name: NumBlanks, dtype: int64"
      ]
     },
     "execution_count": 3,
     "metadata": {},
     "output_type": "execute_result"
    }
   ],
   "source": [
    "#Clean up a few columns\n",
    "del df['NumWords'], df['Entities']\n",
    "\n",
    "df = df[df['NumBlanks']<4]\n",
    "df['NumBlanks'].value_counts()"
   ]
  },
  {
   "cell_type": "code",
   "execution_count": 4,
   "id": "10692680",
   "metadata": {
    "scrolled": true
   },
   "outputs": [
    {
     "data": {
      "text/plain": [
       "All                         1105\n",
       "All Destination              801\n",
       "Missing Origin City          259\n",
       "Missing Destination City      95\n",
       "Destination Country           94\n",
       "Country to Country            38\n",
       "All Origin                     2\n",
       "Name: GeoCategory, dtype: int64"
      ]
     },
     "execution_count": 4,
     "metadata": {},
     "output_type": "execute_result"
    }
   ],
   "source": [
    "#Create geo-categories to separate analysis types\n",
    "conditions  = [\n",
    "               df['NumBlanks'] == 0, \n",
    "               df['NumBlanks'] == 3,\n",
    "               (df['NumBlanks']== 2) & (df['MoveFromCity'].isna() == True) & (df['MoveToCity'].isna() == True),\n",
    "               (df['NumBlanks']== 2) & (df['MoveFromCity'].isna() == True) & (df['MoveFromCountry'].isna() == True),\n",
    "               (df['NumBlanks']== 2) & (df['MoveToCity'].isna() == True) & (df['MoveToCountry'].isna() == True),\n",
    "               (df['NumBlanks']== 1) & (df['MoveFromCity'].isna() == True),\n",
    "               (df['NumBlanks']== 1) & (df['MoveFromCountry'].isna() == True),\n",
    "               (df['NumBlanks']== 1) & (df['MoveToCity'].isna() == True),\n",
    "               (df['NumBlanks']== 1) & (df['MoveToCountry'].isna() == True),\n",
    "              ]\n",
    "choices     = [\"All\",\n",
    "               'Destination Country',\n",
    "               'Country to Country',\n",
    "               'All Destination',\n",
    "               'All Origin',\n",
    "               'Missing Origin City',\n",
    "               'Missing Origin Country',\n",
    "               'Missing Destination City',\n",
    "               'Missing Destination Country'\n",
    "              ]\n",
    "    \n",
    "df[\"GeoCategory\"] = np.select(conditions, choices, default=np.nan)\n",
    "df['GeoCategory'].value_counts()"
   ]
  },
  {
   "cell_type": "code",
   "execution_count": 5,
   "id": "1bd8c737",
   "metadata": {
    "scrolled": false
   },
   "outputs": [
    {
     "data": {
      "text/html": [
       "<div>\n",
       "<style scoped>\n",
       "    .dataframe tbody tr th:only-of-type {\n",
       "        vertical-align: middle;\n",
       "    }\n",
       "\n",
       "    .dataframe tbody tr th {\n",
       "        vertical-align: top;\n",
       "    }\n",
       "\n",
       "    .dataframe thead th {\n",
       "        text-align: right;\n",
       "    }\n",
       "</style>\n",
       "<table border=\"1\" class=\"dataframe\">\n",
       "  <thead>\n",
       "    <tr style=\"text-align: right;\">\n",
       "      <th></th>\n",
       "      <th>index</th>\n",
       "      <th>ep_summary</th>\n",
       "      <th>air_date</th>\n",
       "      <th>ep_nums</th>\n",
       "      <th>ep_title</th>\n",
       "      <th>episode</th>\n",
       "      <th>season</th>\n",
       "      <th>year</th>\n",
       "      <th>MoveFromCity</th>\n",
       "      <th>MoveFromCountry</th>\n",
       "      <th>MoveToCity</th>\n",
       "      <th>MoveToCountry</th>\n",
       "      <th>NumBlanks</th>\n",
       "      <th>Origin</th>\n",
       "      <th>Destination</th>\n",
       "      <th>GeoCategory</th>\n",
       "    </tr>\n",
       "  </thead>\n",
       "  <tbody>\n",
       "    <tr>\n",
       "      <th>0</th>\n",
       "      <td>0</td>\n",
       "      <td>Perry and Cheryl Meriot are Edmonton Alberta n...</td>\n",
       "      <td>21-Feb-10</td>\n",
       "      <td>S12E11</td>\n",
       "      <td>Canadian Couple Buys a Vacation Home in Punta ...</td>\n",
       "      <td>11.0</td>\n",
       "      <td>12.0</td>\n",
       "      <td>2010.0</td>\n",
       "      <td>Edmonton</td>\n",
       "      <td>Canada</td>\n",
       "      <td>Punta Cana</td>\n",
       "      <td>Dominican Republic</td>\n",
       "      <td>0</td>\n",
       "      <td>Edmonton, Canada</td>\n",
       "      <td>Punta Cana, Dominican Republic</td>\n",
       "      <td>All</td>\n",
       "    </tr>\n",
       "    <tr>\n",
       "      <th>1</th>\n",
       "      <td>1</td>\n",
       "      <td>Ken and Donna Richardson live in Conway South ...</td>\n",
       "      <td>27-Jan-10</td>\n",
       "      <td>S12E12</td>\n",
       "      <td>South Carolina Retirees Buy 2nd Home in Costa ...</td>\n",
       "      <td>12.0</td>\n",
       "      <td>12.0</td>\n",
       "      <td>2010.0</td>\n",
       "      <td>Conway, South Carolina</td>\n",
       "      <td>United States</td>\n",
       "      <td>Nosara</td>\n",
       "      <td>Costa Rica</td>\n",
       "      <td>0</td>\n",
       "      <td>Conway, South Carolina</td>\n",
       "      <td>Nosara, Costa Rica</td>\n",
       "      <td>All</td>\n",
       "    </tr>\n",
       "  </tbody>\n",
       "</table>\n",
       "</div>"
      ],
      "text/plain": [
       "   index                                         ep_summary   air_date  \\\n",
       "0      0  Perry and Cheryl Meriot are Edmonton Alberta n...  21-Feb-10   \n",
       "1      1  Ken and Donna Richardson live in Conway South ...  27-Jan-10   \n",
       "\n",
       "  ep_nums                                           ep_title  episode  season  \\\n",
       "0  S12E11  Canadian Couple Buys a Vacation Home in Punta ...     11.0    12.0   \n",
       "1  S12E12  South Carolina Retirees Buy 2nd Home in Costa ...     12.0    12.0   \n",
       "\n",
       "     year            MoveFromCity MoveFromCountry  MoveToCity  \\\n",
       "0  2010.0                Edmonton          Canada  Punta Cana   \n",
       "1  2010.0  Conway, South Carolina   United States      Nosara   \n",
       "\n",
       "        MoveToCountry  NumBlanks                  Origin  \\\n",
       "0  Dominican Republic          0        Edmonton, Canada   \n",
       "1          Costa Rica          0  Conway, South Carolina   \n",
       "\n",
       "                      Destination GeoCategory  \n",
       "0  Punta Cana, Dominican Republic         All  \n",
       "1              Nosara, Costa Rica         All  "
      ]
     },
     "execution_count": 5,
     "metadata": {},
     "output_type": "execute_result"
    }
   ],
   "source": [
    "df = df.reset_index()\n",
    "df.head(2)"
   ]
  },
  {
   "cell_type": "markdown",
   "id": "680e0ad4",
   "metadata": {},
   "source": [
    "### Pulling out latitude and longitude from city names"
   ]
  },
  {
   "cell_type": "code",
   "execution_count": 7,
   "id": "72071dd5",
   "metadata": {},
   "outputs": [],
   "source": [
    "from geopy import distance\n",
    "from geopy.geocoders import Photon\n",
    "from geopy.geocoders import Nominatim\n",
    "\n",
    "df1 = df[df['GeoCategory']== \"All\"]"
   ]
  },
  {
   "cell_type": "code",
   "execution_count": 8,
   "id": "a26769bd",
   "metadata": {},
   "outputs": [
    {
     "name": "stdout",
     "output_type": "stream",
     "text": [
      "London, England, United Kingdom\n",
      "(51.5073359, -0.12765)\n"
     ]
    }
   ],
   "source": [
    "#Example using Photon\n",
    "geolocator = Photon(user_agent=\"measurements\")\n",
    "address='London, England'\n",
    "location = geolocator.geocode(address)\n",
    "print(location.address)\n",
    "print((location.latitude, location.longitude))"
   ]
  },
  {
   "cell_type": "code",
   "execution_count": 17,
   "id": "c145c76b",
   "metadata": {
    "scrolled": true
   },
   "outputs": [
    {
     "name": "stderr",
     "output_type": "stream",
     "text": [
      "/var/folders/yr/521qh_vn01n7j762jny9bmhw0000gn/T/ipykernel_99783/2413742714.py:13: SettingWithCopyWarning: \n",
      "A value is trying to be set on a copy of a slice from a DataFrame.\n",
      "Try using .loc[row_indexer,col_indexer] = value instead\n",
      "\n",
      "See the caveats in the documentation: https://pandas.pydata.org/pandas-docs/stable/user_guide/indexing.html#returning-a-view-versus-a-copy\n",
      "  df1[['latitude', 'longitude']] = df1['Origin'].apply(extract_coordinates).apply(pd.Series)\n",
      "/var/folders/yr/521qh_vn01n7j762jny9bmhw0000gn/T/ipykernel_99783/2413742714.py:13: SettingWithCopyWarning: \n",
      "A value is trying to be set on a copy of a slice from a DataFrame.\n",
      "Try using .loc[row_indexer,col_indexer] = value instead\n",
      "\n",
      "See the caveats in the documentation: https://pandas.pydata.org/pandas-docs/stable/user_guide/indexing.html#returning-a-view-versus-a-copy\n",
      "  df1[['latitude', 'longitude']] = df1['Origin'].apply(extract_coordinates).apply(pd.Series)\n"
     ]
    },
    {
     "data": {
      "text/html": [
       "<div>\n",
       "<style scoped>\n",
       "    .dataframe tbody tr th:only-of-type {\n",
       "        vertical-align: middle;\n",
       "    }\n",
       "\n",
       "    .dataframe tbody tr th {\n",
       "        vertical-align: top;\n",
       "    }\n",
       "\n",
       "    .dataframe thead th {\n",
       "        text-align: right;\n",
       "    }\n",
       "</style>\n",
       "<table border=\"1\" class=\"dataframe\">\n",
       "  <thead>\n",
       "    <tr style=\"text-align: right;\">\n",
       "      <th></th>\n",
       "      <th>index</th>\n",
       "      <th>ep_summary</th>\n",
       "      <th>air_date</th>\n",
       "      <th>ep_nums</th>\n",
       "      <th>ep_title</th>\n",
       "      <th>episode</th>\n",
       "      <th>season</th>\n",
       "      <th>year</th>\n",
       "      <th>MoveFromCity</th>\n",
       "      <th>MoveFromCountry</th>\n",
       "      <th>MoveToCity</th>\n",
       "      <th>MoveToCountry</th>\n",
       "      <th>NumBlanks</th>\n",
       "      <th>Origin</th>\n",
       "      <th>Destination</th>\n",
       "      <th>GeoCategory</th>\n",
       "      <th>loc_info_orig</th>\n",
       "      <th>loc_info_dest</th>\n",
       "      <th>latitude</th>\n",
       "      <th>longitude</th>\n",
       "    </tr>\n",
       "  </thead>\n",
       "  <tbody>\n",
       "    <tr>\n",
       "      <th>0</th>\n",
       "      <td>0</td>\n",
       "      <td>Perry and Cheryl Meriot are Edmonton Alberta n...</td>\n",
       "      <td>21-Feb-10</td>\n",
       "      <td>S12E11</td>\n",
       "      <td>Canadian Couple Buys a Vacation Home in Punta ...</td>\n",
       "      <td>11.0</td>\n",
       "      <td>12.0</td>\n",
       "      <td>2010.0</td>\n",
       "      <td>Edmonton</td>\n",
       "      <td>Canada</td>\n",
       "      <td>Punta Cana</td>\n",
       "      <td>Dominican Republic</td>\n",
       "      <td>0</td>\n",
       "      <td>Edmonton, Canada</td>\n",
       "      <td>Punta Cana, Dominican Republic</td>\n",
       "      <td>All</td>\n",
       "      <td>(Edmonton, Alberta, Canada, (53.5462055, -113....</td>\n",
       "      <td>(Punta Cana, 23300, Salvaleón de Higüey, La Al...</td>\n",
       "      <td>53.546205</td>\n",
       "      <td>-113.491241</td>\n",
       "    </tr>\n",
       "    <tr>\n",
       "      <th>1</th>\n",
       "      <td>1</td>\n",
       "      <td>Ken and Donna Richardson live in Conway South ...</td>\n",
       "      <td>27-Jan-10</td>\n",
       "      <td>S12E12</td>\n",
       "      <td>South Carolina Retirees Buy 2nd Home in Costa ...</td>\n",
       "      <td>12.0</td>\n",
       "      <td>12.0</td>\n",
       "      <td>2010.0</td>\n",
       "      <td>Conway, South Carolina</td>\n",
       "      <td>United States</td>\n",
       "      <td>Nosara</td>\n",
       "      <td>Costa Rica</td>\n",
       "      <td>0</td>\n",
       "      <td>Conway, South Carolina</td>\n",
       "      <td>Nosara, Costa Rica</td>\n",
       "      <td>All</td>\n",
       "      <td>(Conway, 29562, South Carolina, United States,...</td>\n",
       "      <td>(Nosara, 50206, Provincia Guanacaste, Costa Ri...</td>\n",
       "      <td>33.836003</td>\n",
       "      <td>-79.047814</td>\n",
       "    </tr>\n",
       "    <tr>\n",
       "      <th>2</th>\n",
       "      <td>2</td>\n",
       "      <td>Dan and Andrea Layden (30's) are history buffs...</td>\n",
       "      <td>3-Feb-10</td>\n",
       "      <td>S12E08</td>\n",
       "      <td>Dan and Andrea Want a Family-Friendly Vacation...</td>\n",
       "      <td>8.0</td>\n",
       "      <td>12.0</td>\n",
       "      <td>2010.0</td>\n",
       "      <td>Philadelphia</td>\n",
       "      <td>United States</td>\n",
       "      <td>Abruzzo</td>\n",
       "      <td>Italy</td>\n",
       "      <td>0</td>\n",
       "      <td>Philadelphia, United States</td>\n",
       "      <td>Abruzzo, Italy</td>\n",
       "      <td>All</td>\n",
       "      <td>(Philadelphia, Pennsylvania, United States, (3...</td>\n",
       "      <td>(Abruzzo, Italy, (42.227681, 13.854983))</td>\n",
       "      <td>39.952724</td>\n",
       "      <td>-75.163526</td>\n",
       "    </tr>\n",
       "  </tbody>\n",
       "</table>\n",
       "</div>"
      ],
      "text/plain": [
       "   index                                         ep_summary   air_date  \\\n",
       "0      0  Perry and Cheryl Meriot are Edmonton Alberta n...  21-Feb-10   \n",
       "1      1  Ken and Donna Richardson live in Conway South ...  27-Jan-10   \n",
       "2      2  Dan and Andrea Layden (30's) are history buffs...   3-Feb-10   \n",
       "\n",
       "  ep_nums                                           ep_title  episode  season  \\\n",
       "0  S12E11  Canadian Couple Buys a Vacation Home in Punta ...     11.0    12.0   \n",
       "1  S12E12  South Carolina Retirees Buy 2nd Home in Costa ...     12.0    12.0   \n",
       "2  S12E08  Dan and Andrea Want a Family-Friendly Vacation...      8.0    12.0   \n",
       "\n",
       "     year            MoveFromCity MoveFromCountry  MoveToCity  \\\n",
       "0  2010.0                Edmonton          Canada  Punta Cana   \n",
       "1  2010.0  Conway, South Carolina   United States      Nosara   \n",
       "2  2010.0            Philadelphia   United States     Abruzzo   \n",
       "\n",
       "        MoveToCountry  NumBlanks                       Origin  \\\n",
       "0  Dominican Republic          0             Edmonton, Canada   \n",
       "1          Costa Rica          0       Conway, South Carolina   \n",
       "2               Italy          0  Philadelphia, United States   \n",
       "\n",
       "                      Destination GeoCategory  \\\n",
       "0  Punta Cana, Dominican Republic         All   \n",
       "1              Nosara, Costa Rica         All   \n",
       "2                  Abruzzo, Italy         All   \n",
       "\n",
       "                                       loc_info_orig  \\\n",
       "0  (Edmonton, Alberta, Canada, (53.5462055, -113....   \n",
       "1  (Conway, 29562, South Carolina, United States,...   \n",
       "2  (Philadelphia, Pennsylvania, United States, (3...   \n",
       "\n",
       "                                       loc_info_dest   latitude   longitude  \n",
       "0  (Punta Cana, 23300, Salvaleón de Higüey, La Al...  53.546205 -113.491241  \n",
       "1  (Nosara, 50206, Provincia Guanacaste, Costa Ri...  33.836003  -79.047814  \n",
       "2           (Abruzzo, Italy, (42.227681, 13.854983))  39.952724  -75.163526  "
      ]
     },
     "execution_count": 17,
     "metadata": {},
     "output_type": "execute_result"
    }
   ],
   "source": [
    "#test1 = df1[0:10]\n",
    "#geolocator = Nominatim(user_agent=\"measurements\", timeout=3)\n",
    "geolocator = Photon(user_agent=\"measurements\",timeout=None)\n",
    "\n",
    "\n",
    "def extract_coordinates(location):\n",
    "    geocode_result = geolocator.geocode(location, language='en')\n",
    "    if geocode_result is not None:\n",
    "        latitude = geocode_result.latitude\n",
    "        longitude = geocode_result.longitude\n",
    "        return latitude, longitude\n",
    "    else:\n",
    "        return None, None\n",
    "\n",
    "\n",
    "df1[['latitude', 'longitude']] = df1['Origin'].apply(extract_coordinates).apply(pd.Series)\n",
    "df1.head(3)"
   ]
  },
  {
   "cell_type": "code",
   "execution_count": 18,
   "id": "8b55cbfd",
   "metadata": {},
   "outputs": [],
   "source": [
    "#df1.to_csv('data_w_lat_lon.csv', encoding='utf-8', index=False)"
   ]
  },
  {
   "cell_type": "code",
   "execution_count": null,
   "id": "f9326839",
   "metadata": {},
   "outputs": [],
   "source": []
  }
 ],
 "metadata": {
  "kernelspec": {
   "display_name": "Python 3 (ipykernel)",
   "language": "python",
   "name": "python3"
  },
  "language_info": {
   "codemirror_mode": {
    "name": "ipython",
    "version": 3
   },
   "file_extension": ".py",
   "mimetype": "text/x-python",
   "name": "python",
   "nbconvert_exporter": "python",
   "pygments_lexer": "ipython3",
   "version": "3.9.13"
  }
 },
 "nbformat": 4,
 "nbformat_minor": 5
}
