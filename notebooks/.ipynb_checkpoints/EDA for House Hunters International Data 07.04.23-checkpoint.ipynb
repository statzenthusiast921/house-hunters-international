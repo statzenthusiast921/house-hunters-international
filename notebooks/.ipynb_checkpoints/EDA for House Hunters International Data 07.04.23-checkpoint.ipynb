{
 "cells": [
  {
   "cell_type": "code",
   "execution_count": 80,
   "id": "7e6f6613",
   "metadata": {},
   "outputs": [
    {
     "name": "stdout",
     "output_type": "stream",
     "text": [
      "(2419, 14)\n"
     ]
    }
   ],
   "source": [
    "#Import libraries\n",
    "import pandas as pd\n",
    "import numpy as np\n",
    "\n",
    "#Read in the data\n",
    "df=pd.read_csv(\"https://raw.githubusercontent.com/statzenthusiast921/house-hunters-international/main/data/hhi.csv\",encoding='latin-1')\n",
    "print(df.shape)"
   ]
  },
  {
   "cell_type": "code",
   "execution_count": 81,
   "id": "3930d616",
   "metadata": {},
   "outputs": [
    {
     "data": {
      "text/html": [
       "<div>\n",
       "<style scoped>\n",
       "    .dataframe tbody tr th:only-of-type {\n",
       "        vertical-align: middle;\n",
       "    }\n",
       "\n",
       "    .dataframe tbody tr th {\n",
       "        vertical-align: top;\n",
       "    }\n",
       "\n",
       "    .dataframe thead th {\n",
       "        text-align: right;\n",
       "    }\n",
       "</style>\n",
       "<table border=\"1\" class=\"dataframe\">\n",
       "  <thead>\n",
       "    <tr style=\"text-align: right;\">\n",
       "      <th></th>\n",
       "      <th>ep_summary</th>\n",
       "      <th>air_date</th>\n",
       "      <th>ep_nums</th>\n",
       "      <th>ep_title</th>\n",
       "      <th>episode</th>\n",
       "      <th>season</th>\n",
       "      <th>year</th>\n",
       "      <th>Entities</th>\n",
       "      <th>MoveFromCity</th>\n",
       "      <th>MoveFromCountry</th>\n",
       "      <th>MoveToCity</th>\n",
       "      <th>MoveToCountry</th>\n",
       "      <th>NumBlanks</th>\n",
       "      <th>NumWords</th>\n",
       "    </tr>\n",
       "  </thead>\n",
       "  <tbody>\n",
       "    <tr>\n",
       "      <th>0</th>\n",
       "      <td>Perry and Cheryl Meriot are Edmonton Alberta n...</td>\n",
       "      <td>21-Feb-10</td>\n",
       "      <td>S12E11</td>\n",
       "      <td>Canadian Couple Buys a Vacation Home in Punta ...</td>\n",
       "      <td>11.0</td>\n",
       "      <td>12.0</td>\n",
       "      <td>2010.0</td>\n",
       "      <td>[('Cheryl Meriot', 10, 23, 'PERSON'), ('Edmont...</td>\n",
       "      <td>Edmonton</td>\n",
       "      <td>Canada</td>\n",
       "      <td>Punta Cana</td>\n",
       "      <td>Dominican Republic</td>\n",
       "      <td>0</td>\n",
       "      <td>383</td>\n",
       "    </tr>\n",
       "    <tr>\n",
       "      <th>1</th>\n",
       "      <td>Ken and Donna Richardson live in Conway South ...</td>\n",
       "      <td>27-Jan-10</td>\n",
       "      <td>S12E12</td>\n",
       "      <td>South Carolina Retirees Buy 2nd Home in Costa ...</td>\n",
       "      <td>12.0</td>\n",
       "      <td>12.0</td>\n",
       "      <td>2010.0</td>\n",
       "      <td>[('Ken', 0, 3, 'PERSON'), ('Donna Richardson',...</td>\n",
       "      <td>Conway, South Carolina</td>\n",
       "      <td>United States</td>\n",
       "      <td>Nosara</td>\n",
       "      <td>Costa Rica</td>\n",
       "      <td>0</td>\n",
       "      <td>382</td>\n",
       "    </tr>\n",
       "  </tbody>\n",
       "</table>\n",
       "</div>"
      ],
      "text/plain": [
       "                                          ep_summary   air_date ep_nums  \\\n",
       "0  Perry and Cheryl Meriot are Edmonton Alberta n...  21-Feb-10  S12E11   \n",
       "1  Ken and Donna Richardson live in Conway South ...  27-Jan-10  S12E12   \n",
       "\n",
       "                                            ep_title  episode  season    year  \\\n",
       "0  Canadian Couple Buys a Vacation Home in Punta ...     11.0    12.0  2010.0   \n",
       "1  South Carolina Retirees Buy 2nd Home in Costa ...     12.0    12.0  2010.0   \n",
       "\n",
       "                                            Entities            MoveFromCity  \\\n",
       "0  [('Cheryl Meriot', 10, 23, 'PERSON'), ('Edmont...                Edmonton   \n",
       "1  [('Ken', 0, 3, 'PERSON'), ('Donna Richardson',...  Conway, South Carolina   \n",
       "\n",
       "  MoveFromCountry  MoveToCity       MoveToCountry  NumBlanks  NumWords  \n",
       "0          Canada  Punta Cana  Dominican Republic          0       383  \n",
       "1   United States      Nosara          Costa Rica          0       382  "
      ]
     },
     "execution_count": 81,
     "metadata": {},
     "output_type": "execute_result"
    }
   ],
   "source": [
    "df.head(2)"
   ]
  },
  {
   "cell_type": "code",
   "execution_count": 82,
   "id": "5c2e58f7",
   "metadata": {
    "scrolled": true
   },
   "outputs": [
    {
     "data": {
      "text/html": [
       "<div>\n",
       "<style scoped>\n",
       "    .dataframe tbody tr th:only-of-type {\n",
       "        vertical-align: middle;\n",
       "    }\n",
       "\n",
       "    .dataframe tbody tr th {\n",
       "        vertical-align: top;\n",
       "    }\n",
       "\n",
       "    .dataframe thead th {\n",
       "        text-align: right;\n",
       "    }\n",
       "</style>\n",
       "<table border=\"1\" class=\"dataframe\">\n",
       "  <thead>\n",
       "    <tr style=\"text-align: right;\">\n",
       "      <th></th>\n",
       "      <th>ep_summary</th>\n",
       "      <th>air_date</th>\n",
       "      <th>ep_nums</th>\n",
       "      <th>ep_title</th>\n",
       "      <th>episode</th>\n",
       "      <th>season</th>\n",
       "      <th>year</th>\n",
       "      <th>Entities</th>\n",
       "      <th>MoveFromCity</th>\n",
       "      <th>MoveFromCountry</th>\n",
       "      <th>MoveToCity</th>\n",
       "      <th>MoveToCountry</th>\n",
       "      <th>NumBlanks</th>\n",
       "      <th>NumWords</th>\n",
       "      <th>Origin</th>\n",
       "      <th>Destination</th>\n",
       "    </tr>\n",
       "  </thead>\n",
       "  <tbody>\n",
       "    <tr>\n",
       "      <th>0</th>\n",
       "      <td>Perry and Cheryl Meriot are Edmonton Alberta n...</td>\n",
       "      <td>21-Feb-10</td>\n",
       "      <td>S12E11</td>\n",
       "      <td>Canadian Couple Buys a Vacation Home in Punta ...</td>\n",
       "      <td>11.0</td>\n",
       "      <td>12.0</td>\n",
       "      <td>2010.0</td>\n",
       "      <td>[('Cheryl Meriot', 10, 23, 'PERSON'), ('Edmont...</td>\n",
       "      <td>Edmonton</td>\n",
       "      <td>Canada</td>\n",
       "      <td>Punta Cana</td>\n",
       "      <td>Dominican Republic</td>\n",
       "      <td>0</td>\n",
       "      <td>383</td>\n",
       "      <td>Edmonton, Canada</td>\n",
       "      <td>Punta Cana, Dominican Republic</td>\n",
       "    </tr>\n",
       "    <tr>\n",
       "      <th>1</th>\n",
       "      <td>Ken and Donna Richardson live in Conway South ...</td>\n",
       "      <td>27-Jan-10</td>\n",
       "      <td>S12E12</td>\n",
       "      <td>South Carolina Retirees Buy 2nd Home in Costa ...</td>\n",
       "      <td>12.0</td>\n",
       "      <td>12.0</td>\n",
       "      <td>2010.0</td>\n",
       "      <td>[('Ken', 0, 3, 'PERSON'), ('Donna Richardson',...</td>\n",
       "      <td>Conway, South Carolina</td>\n",
       "      <td>United States</td>\n",
       "      <td>Nosara</td>\n",
       "      <td>Costa Rica</td>\n",
       "      <td>0</td>\n",
       "      <td>382</td>\n",
       "      <td>Conway, South Carolina</td>\n",
       "      <td>Nosara, Costa Rica</td>\n",
       "    </tr>\n",
       "  </tbody>\n",
       "</table>\n",
       "</div>"
      ],
      "text/plain": [
       "                                          ep_summary   air_date ep_nums  \\\n",
       "0  Perry and Cheryl Meriot are Edmonton Alberta n...  21-Feb-10  S12E11   \n",
       "1  Ken and Donna Richardson live in Conway South ...  27-Jan-10  S12E12   \n",
       "\n",
       "                                            ep_title  episode  season    year  \\\n",
       "0  Canadian Couple Buys a Vacation Home in Punta ...     11.0    12.0  2010.0   \n",
       "1  South Carolina Retirees Buy 2nd Home in Costa ...     12.0    12.0  2010.0   \n",
       "\n",
       "                                            Entities            MoveFromCity  \\\n",
       "0  [('Cheryl Meriot', 10, 23, 'PERSON'), ('Edmont...                Edmonton   \n",
       "1  [('Ken', 0, 3, 'PERSON'), ('Donna Richardson',...  Conway, South Carolina   \n",
       "\n",
       "  MoveFromCountry  MoveToCity       MoveToCountry  NumBlanks  NumWords  \\\n",
       "0          Canada  Punta Cana  Dominican Republic          0       383   \n",
       "1   United States      Nosara          Costa Rica          0       382   \n",
       "\n",
       "                   Origin                     Destination  \n",
       "0        Edmonton, Canada  Punta Cana, Dominican Republic  \n",
       "1  Conway, South Carolina              Nosara, Costa Rica  "
      ]
     },
     "execution_count": 82,
     "metadata": {},
     "output_type": "execute_result"
    }
   ],
   "source": [
    "#Format origin and destinations a little more clearly\n",
    "df['Origin'] = np.where(\n",
    "    df['MoveFromCity'].str.contains(',') == True, df['MoveFromCity'], df['MoveFromCity'] + ', ' + df['MoveFromCountry']\n",
    ")\n",
    "df['Destination'] = np.where(\n",
    "    df['MoveToCity'].str.contains(',') == True, df['MoveToCity'], df['MoveToCity'] + ', ' + df['MoveToCountry']\n",
    ")\n",
    "df.head(2)"
   ]
  },
  {
   "cell_type": "code",
   "execution_count": 83,
   "id": "8516d81a",
   "metadata": {},
   "outputs": [
    {
     "data": {
      "text/plain": [
       "(2394, 15)"
      ]
     },
     "execution_count": 83,
     "metadata": {},
     "output_type": "execute_result"
    }
   ],
   "source": [
    "del df['NumWords']\n",
    "\n",
    "df = df[df['NumBlanks']<4]\n",
    "df.shape"
   ]
  },
  {
   "cell_type": "code",
   "execution_count": 84,
   "id": "d38eb984",
   "metadata": {
    "scrolled": true
   },
   "outputs": [
    {
     "data": {
      "text/plain": [
       "0    1100\n",
       "2     843\n",
       "1     357\n",
       "3      94\n",
       "Name: NumBlanks, dtype: int64"
      ]
     },
     "execution_count": 84,
     "metadata": {},
     "output_type": "execute_result"
    }
   ],
   "source": [
    "df['NumBlanks'].value_counts()"
   ]
  },
  {
   "cell_type": "code",
   "execution_count": 85,
   "id": "bcad27fa",
   "metadata": {
    "scrolled": true
   },
   "outputs": [
    {
     "data": {
      "text/plain": [
       "All                            1100\n",
       "All Destination                 801\n",
       "Missing Origin City             259\n",
       "Missing Destination City         95\n",
       "Destination Country              94\n",
       "Country to Country               38\n",
       "nan                               2\n",
       "Missing Destination Country       2\n",
       "All Origin                        2\n",
       "Missing Origin Country            1\n",
       "Name: GeoCategory, dtype: int64"
      ]
     },
     "execution_count": 85,
     "metadata": {},
     "output_type": "execute_result"
    }
   ],
   "source": [
    "conditions  = [\n",
    "               df['NumBlanks'] == 0, \n",
    "               df['NumBlanks'] == 3,\n",
    "               (df['NumBlanks']== 2) & (df['MoveFromCity'].isna() == True) & (df['MoveToCity'].isna() == True),\n",
    "               (df['NumBlanks']== 2) & (df['MoveFromCity'].isna() == True) & (df['MoveFromCountry'].isna() == True),\n",
    "               (df['NumBlanks']== 2) & (df['MoveToCity'].isna() == True) & (df['MoveToCountry'].isna() == True),\n",
    "               (df['NumBlanks']== 1) & (df['MoveFromCity'].isna() == True),\n",
    "               (df['NumBlanks']== 1) & (df['MoveFromCountry'].isna() == True),\n",
    "               (df['NumBlanks']== 1) & (df['MoveToCity'].isna() == True),\n",
    "               (df['NumBlanks']== 1) & (df['MoveToCountry'].isna() == True),\n",
    "              ]\n",
    "choices     = [\"All\",\n",
    "               'Destination Country',\n",
    "               'Country to Country',\n",
    "               'All Destination',\n",
    "               'All Origin',\n",
    "               'Missing Origin City',\n",
    "               'Missing Origin Country',\n",
    "               'Missing Destination City',\n",
    "               'Missing Destination Country'\n",
    "              ]\n",
    "    \n",
    "df[\"GeoCategory\"] = np.select(conditions, choices, default=np.nan)\n",
    "df['GeoCategory'].value_counts()"
   ]
  },
  {
   "cell_type": "code",
   "execution_count": 86,
   "id": "0e5e6e0c",
   "metadata": {
    "scrolled": true
   },
   "outputs": [
    {
     "data": {
      "text/html": [
       "<div>\n",
       "<style scoped>\n",
       "    .dataframe tbody tr th:only-of-type {\n",
       "        vertical-align: middle;\n",
       "    }\n",
       "\n",
       "    .dataframe tbody tr th {\n",
       "        vertical-align: top;\n",
       "    }\n",
       "\n",
       "    .dataframe thead th {\n",
       "        text-align: right;\n",
       "    }\n",
       "</style>\n",
       "<table border=\"1\" class=\"dataframe\">\n",
       "  <thead>\n",
       "    <tr style=\"text-align: right;\">\n",
       "      <th></th>\n",
       "      <th>index</th>\n",
       "      <th>ep_summary</th>\n",
       "      <th>air_date</th>\n",
       "      <th>ep_nums</th>\n",
       "      <th>ep_title</th>\n",
       "      <th>episode</th>\n",
       "      <th>season</th>\n",
       "      <th>year</th>\n",
       "      <th>Entities</th>\n",
       "      <th>MoveFromCity</th>\n",
       "      <th>MoveFromCountry</th>\n",
       "      <th>MoveToCity</th>\n",
       "      <th>MoveToCountry</th>\n",
       "      <th>NumBlanks</th>\n",
       "      <th>Origin</th>\n",
       "      <th>Destination</th>\n",
       "      <th>GeoCategory</th>\n",
       "    </tr>\n",
       "  </thead>\n",
       "  <tbody>\n",
       "    <tr>\n",
       "      <th>0</th>\n",
       "      <td>0</td>\n",
       "      <td>Perry and Cheryl Meriot are Edmonton Alberta n...</td>\n",
       "      <td>21-Feb-10</td>\n",
       "      <td>S12E11</td>\n",
       "      <td>Canadian Couple Buys a Vacation Home in Punta ...</td>\n",
       "      <td>11.0</td>\n",
       "      <td>12.0</td>\n",
       "      <td>2010.0</td>\n",
       "      <td>[('Cheryl Meriot', 10, 23, 'PERSON'), ('Edmont...</td>\n",
       "      <td>Edmonton</td>\n",
       "      <td>Canada</td>\n",
       "      <td>Punta Cana</td>\n",
       "      <td>Dominican Republic</td>\n",
       "      <td>0</td>\n",
       "      <td>Edmonton, Canada</td>\n",
       "      <td>Punta Cana, Dominican Republic</td>\n",
       "      <td>All</td>\n",
       "    </tr>\n",
       "    <tr>\n",
       "      <th>1</th>\n",
       "      <td>1</td>\n",
       "      <td>Ken and Donna Richardson live in Conway South ...</td>\n",
       "      <td>27-Jan-10</td>\n",
       "      <td>S12E12</td>\n",
       "      <td>South Carolina Retirees Buy 2nd Home in Costa ...</td>\n",
       "      <td>12.0</td>\n",
       "      <td>12.0</td>\n",
       "      <td>2010.0</td>\n",
       "      <td>[('Ken', 0, 3, 'PERSON'), ('Donna Richardson',...</td>\n",
       "      <td>Conway, South Carolina</td>\n",
       "      <td>United States</td>\n",
       "      <td>Nosara</td>\n",
       "      <td>Costa Rica</td>\n",
       "      <td>0</td>\n",
       "      <td>Conway, South Carolina</td>\n",
       "      <td>Nosara, Costa Rica</td>\n",
       "      <td>All</td>\n",
       "    </tr>\n",
       "  </tbody>\n",
       "</table>\n",
       "</div>"
      ],
      "text/plain": [
       "   index                                         ep_summary   air_date  \\\n",
       "0      0  Perry and Cheryl Meriot are Edmonton Alberta n...  21-Feb-10   \n",
       "1      1  Ken and Donna Richardson live in Conway South ...  27-Jan-10   \n",
       "\n",
       "  ep_nums                                           ep_title  episode  season  \\\n",
       "0  S12E11  Canadian Couple Buys a Vacation Home in Punta ...     11.0    12.0   \n",
       "1  S12E12  South Carolina Retirees Buy 2nd Home in Costa ...     12.0    12.0   \n",
       "\n",
       "     year                                           Entities  \\\n",
       "0  2010.0  [('Cheryl Meriot', 10, 23, 'PERSON'), ('Edmont...   \n",
       "1  2010.0  [('Ken', 0, 3, 'PERSON'), ('Donna Richardson',...   \n",
       "\n",
       "             MoveFromCity MoveFromCountry  MoveToCity       MoveToCountry  \\\n",
       "0                Edmonton          Canada  Punta Cana  Dominican Republic   \n",
       "1  Conway, South Carolina   United States      Nosara          Costa Rica   \n",
       "\n",
       "   NumBlanks                  Origin                     Destination  \\\n",
       "0          0        Edmonton, Canada  Punta Cana, Dominican Republic   \n",
       "1          0  Conway, South Carolina              Nosara, Costa Rica   \n",
       "\n",
       "  GeoCategory  \n",
       "0         All  \n",
       "1         All  "
      ]
     },
     "execution_count": 86,
     "metadata": {},
     "output_type": "execute_result"
    }
   ],
   "source": [
    "df = df.reset_index()\n",
    "df.head(2)"
   ]
  },
  {
   "cell_type": "code",
   "execution_count": 87,
   "id": "718f713c",
   "metadata": {},
   "outputs": [],
   "source": [
    "df1 = df[df['GeoCategory']== \"All\"]"
   ]
  },
  {
   "cell_type": "code",
   "execution_count": 88,
   "id": "b14a6620",
   "metadata": {},
   "outputs": [],
   "source": [
    "from geopy import distance\n",
    "#from geopy.geocoders import Nominatim\n",
    "from geopy.geocoders import Photon\n"
   ]
  },
  {
   "cell_type": "code",
   "execution_count": 91,
   "id": "d239922c",
   "metadata": {},
   "outputs": [
    {
     "name": "stdout",
     "output_type": "stream",
     "text": [
      "London, England, United Kingdom\n",
      "(51.5073359, -0.12765)\n"
     ]
    }
   ],
   "source": [
    "#Example grabbing\n",
    "geolocator = Photon(user_agent=\"measurements\")\n",
    "address='London, England'\n",
    "location = geolocator.geocode(address)\n",
    "print(location.address)\n",
    "print((location.latitude, location.longitude))"
   ]
  },
  {
   "cell_type": "code",
   "execution_count": 37,
   "id": "e90df787",
   "metadata": {},
   "outputs": [],
   "source": [
    "#df['Lat_Lon_Orig'] = df.apply(geolocator.geocode(df['Origin']))"
   ]
  },
  {
   "cell_type": "code",
   "execution_count": 125,
   "id": "4777c8ed",
   "metadata": {
    "scrolled": true
   },
   "outputs": [
    {
     "name": "stdout",
     "output_type": "stream",
     "text": [
      "48.9467562\n",
      "11.4038717\n"
     ]
    }
   ],
   "source": [
    "# geolocator = Nominatim(user_agent=\"StackOverFlow\", timeout=3)\n",
    "# df1['location_info'] = df1['Origin'].apply(lambda x: geolocator.geocode(x, addressdetails=True, language='en'))\n",
    "# #df['city'] = df.location_info.apply(lambda x: x.raw[\"address\"]['city'])\n",
    "# #df = df.drop(['location_info'], axis=1) \n",
    "\n",
    "\n",
    "\n",
    "\n",
    "import requests\n",
    "import urllib.parse\n",
    "\n",
    "address = 'Bavaria, Germany'\n",
    "url = 'https://nominatim.openstreetmap.org/search/' + urllib.parse.quote(address) +'?format=json'\n",
    "\n",
    "response = requests.get(url).json()\n",
    "print(response[0][\"lat\"])\n",
    "print(response[0][\"lon\"])"
   ]
  },
  {
   "cell_type": "code",
   "execution_count": 152,
   "id": "97506090",
   "metadata": {},
   "outputs": [
    {
     "data": {
      "text/plain": [
       "Index(['index', 'ep_summary', 'air_date', 'ep_nums', 'ep_title', 'episode',\n",
       "       'season', 'year', 'Entities', 'MoveFromCity', 'MoveFromCountry',\n",
       "       'MoveToCity', 'MoveToCountry', 'NumBlanks', 'Origin', 'Destination',\n",
       "       'GeoCategory'],\n",
       "      dtype='object')"
      ]
     },
     "execution_count": 152,
     "metadata": {},
     "output_type": "execute_result"
    }
   ],
   "source": [
    "test.columns"
   ]
  },
  {
   "cell_type": "code",
   "execution_count": 155,
   "id": "eb80d938",
   "metadata": {
    "scrolled": true
   },
   "outputs": [],
   "source": [
    "# segment1 = 'https://nominatim.openstreetmap.org/search/'\n",
    "# segment3 = '?format=json'\n",
    "# df1['json_location_data'] = df1['Origin'].apply(lambda x: requests.get(segment1 + urllib.parse.quote(str(df1['Origin'])) + segment3).json())"
   ]
  },
  {
   "cell_type": "code",
   "execution_count": null,
   "id": "eab10c97",
   "metadata": {},
   "outputs": [],
   "source": []
  }
 ],
 "metadata": {
  "kernelspec": {
   "display_name": "Python 3 (ipykernel)",
   "language": "python",
   "name": "python3"
  },
  "language_info": {
   "codemirror_mode": {
    "name": "ipython",
    "version": 3
   },
   "file_extension": ".py",
   "mimetype": "text/x-python",
   "name": "python",
   "nbconvert_exporter": "python",
   "pygments_lexer": "ipython3",
   "version": "3.9.13"
  }
 },
 "nbformat": 4,
 "nbformat_minor": 5
}
